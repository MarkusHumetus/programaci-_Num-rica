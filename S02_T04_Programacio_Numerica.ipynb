{
 "cells": [
  {
   "cell_type": "markdown",
   "id": "36db64bc",
   "metadata": {},
   "source": [
    "## Nivell 1\n",
    "\n",
    "\n",
    "\n",
    "\n",
    "\n"
   ]
  },
  {
   "cell_type": "markdown",
   "id": "ac1e4f11",
   "metadata": {},
   "source": [
    "Familiaritza't amb la Programació Numèrica a través de la llibreria NumPy."
   ]
  },
  {
   "cell_type": "markdown",
   "id": "1ae3a2a0",
   "metadata": {},
   "source": [
    "**Exercici \n",
    "1:**\n",
    "Crea una funció que donat un Array d’una dimensió, et faci un resum estadístic bàsic de les dades. Si detecta que l’array té més d’una dimensió, ha de mostrar un missatge d’error."
   ]
  },
  {
   "cell_type": "code",
   "execution_count": 1,
   "id": "7b6385e0",
   "metadata": {},
   "outputs": [],
   "source": [
    "import numpy as np"
   ]
  },
  {
   "cell_type": "code",
   "execution_count": 79,
   "id": "79919bc7",
   "metadata": {},
   "outputs": [],
   "source": [
    "def estadistics(array):\n",
    "    print('\\n','* '*30,'\\n','              Dades d\\'estadística de l\\'array',\"\\n\",'* '*30,'\\n')\n",
    "    print(f\"L'array està format per {len(array)} números.\")\n",
    "    print(f\"Els valors de l'array es troben entre {array.min()} i {array.max()} (valors mínim i màxim respectivament).\")\n",
    "    print(f\"La mitja aritmètica dels valors de l'array és {array.mean()}.\")\n",
    "    print(f\"El quantil 0.25 de l'array és {np.quantile(array,0.25)}.\")\n",
    "    print(f\"El valor mitjà (quantil 0.5) de l'array és {np.median(array)}.\")\n",
    "    print(f\"El quantil 0.75 de l'array és {np.quantile(array,0.75)}.\")\n",
    "    print(f\"La variança dels valors de l'array és {array.var()}.\")\n",
    "    print(f\"La desviació estandard dels valors de l'array és {array.std()}.\")\n",
    "\n",
    "def estadistics1D(array):    \n",
    "    if array.ndim!=1:\n",
    "        print('\\n','* '*30,'\\n',\"         L'array ha de ser d'una sola dimensió!\\n\",'* '*30,'\\n')\n",
    "    elif len(array)==1:\n",
    "        print('\\n','* '*40,'\\n',\"    L'array només conté un element i la informació estadística no té utilitat.\\n\",'* '*40,'\\n')\n",
    "    else:\n",
    "        estadistics(array) "
   ]
  },
  {
   "cell_type": "code",
   "execution_count": 80,
   "id": "42cc4ef8",
   "metadata": {
    "scrolled": true
   },
   "outputs": [
    {
     "name": "stdout",
     "output_type": "stream",
     "text": [
      "[6] \n",
      "\n",
      "\n",
      " * * * * * * * * * * * * * * * * * * * * * * * * * * * * * * * * * * * * * * * *  \n",
      "     L'array només conté un element i la informació estadística no té utilitat.\n",
      " * * * * * * * * * * * * * * * * * * * * * * * * * * * * * * * * * * * * * * * *  \n",
      "\n",
      "[[11 12 10 12]\n",
      " [12 10 11 11]\n",
      " [10 10 11 10]] \n",
      "\n",
      "\n",
      " * * * * * * * * * * * * * * * * * * * * * * * * * * * * * *  \n",
      "          L'array ha de ser d'una sola dimensió!\n",
      " * * * * * * * * * * * * * * * * * * * * * * * * * * * * * *  \n",
      "\n",
      "[82 99 13 79 22 59 50 52 11 83 61 89 49 33 57 36 50 77  4 83 94 69  6 23\n",
      " 69 78  8 54 91 85] \n",
      "\n",
      "\n",
      " * * * * * * * * * * * * * * * * * * * * * * * * * * * * * *  \n",
      "               Dades d'estadística de l'array \n",
      " * * * * * * * * * * * * * * * * * * * * * * * * * * * * * *  \n",
      "\n",
      "L'array està format per 30 números.\n",
      "Els valors de l'array es troben entre 4 i 99 (valors mínim i màxim respectivament).\n",
      "La mitja aritmètica dels valors de l'array és 55.53333333333333.\n",
      "El quantil 0.25 de l'array és 33.75.\n",
      "El valor mitjà (quantil 0.5) de l'array és 58.0.\n",
      "El quantil 0.75 de l'array és 81.25.\n",
      "La variança dels valors de l'array és 836.6488888888889.\n",
      "La desviació estandard dels valors de l'array és 28.924883558778397.\n"
     ]
    }
   ],
   "source": [
    "array1=np.random.randint(10,size=1)\n",
    "array2=np.random.randint(10,13,size=(3,4))\n",
    "array3=np.random.randint(101,size=30)\n",
    "print(array1,'\\n')\n",
    "estadistics1D(array1)\n",
    "print(array2,'\\n')\n",
    "estadistics1D(array2)\n",
    "print(array3,'\\n')\n",
    "estadistics1D(array3)"
   ]
  },
  {
   "cell_type": "markdown",
   "id": "b1b02648",
   "metadata": {},
   "source": [
    "**Exercici \n",
    "2:**\n",
    "Crea una funció que et generi un quadrat NxN de nombres aleatoris entre el 0 i el 100."
   ]
  },
  {
   "cell_type": "code",
   "execution_count": 74,
   "id": "8b924521",
   "metadata": {},
   "outputs": [
    {
     "name": "stdout",
     "output_type": "stream",
     "text": [
      "\n",
      "\n",
      "Quants números per fila i columna vols (número sencer!)?\n",
      ">>> 4\n",
      "\n",
      "  * * * Array generat de 4 x 4  * * * \n",
      " [[56 20  2 98]\n",
      " [78 91 12 89]\n",
      " [88 94 32 28]\n",
      " [93 33 69 54]] \n",
      "\n"
     ]
    }
   ],
   "source": [
    "def arrayNN(n):\n",
    "    array=np.random.randint(101,size=(n,n))\n",
    "    return array\n",
    "print('\\n')\n",
    "n=int(input(\"Quants números per fila i columna vols (número sencer!)?\\n>>> \"))\n",
    "\n",
    "nouArray=arrayNN(n)\n",
    "print ('\\n',' *'*3,f'Array generat de {n} x {n}',' *'*3,'\\n',nouArray, '\\n')"
   ]
  },
  {
   "cell_type": "markdown",
   "id": "3e8ab024",
   "metadata": {},
   "source": [
    "**Exercici \n",
    "3:**\n",
    "Crea una funció que donada una taula de dues dimensions, et calculi els totals per fila i els totals per columna.\n"
   ]
  },
  {
   "cell_type": "code",
   "execution_count": 138,
   "id": "d5b0e6c4",
   "metadata": {},
   "outputs": [
    {
     "name": "stdout",
     "output_type": "stream",
     "text": [
      "[[ 38  67  22 100  21  59  24]\n",
      " [ 16   1  32   5  18  85   9]\n",
      " [ 67   4   7 100  36  42  83]\n",
      " [ 79  15  32  20  49  93   7]\n",
      " [  4  70  86  87  93  96   5]\n",
      " [ 65  80  88  82  71   1  88]] \n",
      "\n",
      "Els valors de la 1a fila sumen 331.\n",
      "Els valors de la 2a fila sumen 166.\n",
      "Els valors de la 3a fila sumen 339.\n",
      "Els valors de la 4a fila sumen 295.\n",
      "Els valors de la 5a fila sumen 441.\n",
      "Els valors de la 6a fila sumen 475.\n",
      "\n",
      "Els valors de la 1a columna sumen 269.\n",
      "Els valors de la 2a columna sumen 237.\n",
      "Els valors de la 3a columna sumen 267.\n",
      "Els valors de la 4a columna sumen 394.\n",
      "Els valors de la 5a columna sumen 288.\n",
      "Els valors de la 6a columna sumen 376.\n",
      "Els valors de la 7a columna sumen 216.\n"
     ]
    }
   ],
   "source": [
    "def totalsArray2D (array):  \n",
    "    for i in range (0,np.shape(array)[0]): \n",
    "        print(f\"Els valors de la {i+1}a fila sumen {array[i,:].sum()}.\")\n",
    "    print('')\n",
    "    for i in range (0,np.shape(array)[1]):\n",
    "        print(f\"Els valors de la {i+1}a columna sumen {array[:,i].sum()}.\")\n",
    "    \n",
    "\n",
    "array=np.random.randint(101,size=(6,7))\n",
    "print(array,'\\n')\n",
    "totalsArray2D(array)"
   ]
  },
  {
   "cell_type": "markdown",
   "id": "e837787e",
   "metadata": {},
   "source": [
    "**Exercici \n",
    "4:**\n",
    "Implementa manualment una funció que calculi el coeficient de correlació. Informa’t-en sobre els seus usos i interpretació."
   ]
  },
  {
   "cell_type": "code",
   "execution_count": 75,
   "id": "905ee019",
   "metadata": {},
   "outputs": [],
   "source": [
    "def coefCorrelation(array1D_a, array1D_b): #Dos arrays unicimensionals qua haurien de ser del mateix tamany\n",
    "    mean_multipXY=0\n",
    "    covarXY=0\n",
    "    if array1D_a.ndim!= array1D_b.ndim:#control per si són de diferent tamany!! Potser no caldria...\n",
    "        print (\"Les dimensions dels dos arrays són diferents, no es pot realitzar la correlació!\")\n",
    "        return 0\n",
    "    else:\n",
    "        for i in range (0, np.size(array1D_a)):\n",
    "            mean_multipXY+= (array1D_a[i]* array1D_b[i])/np.size(array1D_a) #per generar la mitja del producte XY\n",
    "        covarXY=mean_multipXY-(np.mean(array1D_a)*np.mean(array1D_b))\n",
    "        return covarXY/(np.std(array1D_a)*np.std(array1D_b)) \n",
    "\n",
    "def matrix_coef_corr(arraynD):\n",
    "    array_coef_corr=np.ones(shape=(np.shape(arraynD)[1],np.shape(arraynD)[1])) # la base de la matriu de correlació, tenim diagonal amb 1\n",
    "    for i in range(0,np.shape(arraynD)[1]):\n",
    "        for j in range (i+1,np.shape(arraynD)[1]):#matriu és simètrica, omplim la meitat e igualem invertint indexs\n",
    "            array_coef_corr[i,j]=coefCorrelation(arraynD[:,i],arraynD[:,j])\n",
    "            array_coef_corr[j,i]= array_coef_corr[i,j]\n",
    "    return array_coef_corr "
   ]
  },
  {
   "cell_type": "code",
   "execution_count": 76,
   "id": "41a7a89b",
   "metadata": {
    "scrolled": true
   },
   "outputs": [
    {
     "name": "stdout",
     "output_type": "stream",
     "text": [
      "[[86 31 42]\n",
      " [81 43 30]\n",
      " [26 97 43]\n",
      " [27 12 87]\n",
      " [50 93  8]\n",
      " [81 71 80]]\n",
      "\n",
      " * * *  Matriu amb els Coeficients de Correlació de Pearson * * *  \n",
      "\n",
      "[[ 1.         -0.18726441 -0.13723297]\n",
      " [-0.18726441  1.         -0.4879828 ]\n",
      " [-0.13723297 -0.4879828   1.        ]]\n"
     ]
    }
   ],
   "source": [
    "array=np.random.randint(101,size=(6,3))\n",
    "print(array)\n",
    "print('\\n','* '*3, 'Matriu amb els Coeficients de Correlació de Pearson', '* '*3,'\\n')\n",
    "print(matrix_coef_corr(array))\n"
   ]
  },
  {
   "cell_type": "markdown",
   "id": "b45febb5",
   "metadata": {},
   "source": [
    "**Usos i interpretació del coeficient de correlació de Pearson.**\n",
    "El coeficient de correlació de Pearson dóna informació sobre dependencia lineal entre dos variables. \n",
    "Té un valor comprès entre -1 i +1. En els extrems hi ha la màxima dependència (1 o -1), \n",
    "si és 1 la dependència serà la màxima i directe (si un creix l'atre també), si és -1 la correlació és \n",
    "la màxima però inversa (si un creix l'altre disminueix).\n",
    "Si el valor és 0, no hi ha gens de correlació lineal entre les dues variables."
   ]
  },
  {
   "cell_type": "code",
   "execution_count": null,
   "id": "65156c81",
   "metadata": {},
   "outputs": [],
   "source": []
  }
 ],
 "metadata": {
  "kernelspec": {
   "display_name": "Python 3 (ipykernel)",
   "language": "python",
   "name": "python3"
  },
  "language_info": {
   "codemirror_mode": {
    "name": "ipython",
    "version": 3
   },
   "file_extension": ".py",
   "mimetype": "text/x-python",
   "name": "python",
   "nbconvert_exporter": "python",
   "pygments_lexer": "ipython3",
   "version": "3.9.7"
  }
 },
 "nbformat": 4,
 "nbformat_minor": 5
}
